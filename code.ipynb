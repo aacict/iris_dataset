{
 "cells": [
  {
   "cell_type": "markdown",
   "id": "20a17612-4b75-4adb-91d7-8c1be1554a5c",
   "metadata": {},
   "source": [
    "# Importing required libraries::"
   ]
  },
  {
   "cell_type": "code",
   "execution_count": 2,
   "id": "2a4c0b69-5a42-4469-bf8b-df98b50a3f54",
   "metadata": {},
   "outputs": [],
   "source": [
    "import seaborn as sns\n",
    "import matplotlib.pyplot as plt\n",
    "import numpy as np\n",
    "import pandas as pd\n",
    "from sklearn.preprocessing import LabelEncoder\n",
    "from sklearn.model_selection import GridSearchCV\n",
    "from sklearn.ensemble import RandomForestClassifier\n",
    "from sklearn.linear_model import LogisticRegression\n",
    "from sklearn.ensemble import GradientBoostingClassifier \n",
    "from sklearn.model_selection import train_test_split\n",
    "from sklearn.metrics import accuracy_score, precision_score, recall_score\n",
    "from sklearn.model_selection import cross_val_score\n",
    "import time"
   ]
  },
  {
   "cell_type": "markdown",
   "id": "8fbb8172-a820-475b-b1e4-1bdf771d4644",
   "metadata": {},
   "source": [
    "# Reading csv file of iris data set::\n",
    "  This file is taken from the link provided in the project1 pdf containing 150 rows"
   ]
  },
  {
   "cell_type": "code",
   "execution_count": 3,
   "id": "84784b64-25ea-4348-8673-e8d19741067c",
   "metadata": {},
   "outputs": [
    {
     "data": {
      "text/html": [
       "<div>\n",
       "<style scoped>\n",
       "    .dataframe tbody tr th:only-of-type {\n",
       "        vertical-align: middle;\n",
       "    }\n",
       "\n",
       "    .dataframe tbody tr th {\n",
       "        vertical-align: top;\n",
       "    }\n",
       "\n",
       "    .dataframe thead th {\n",
       "        text-align: right;\n",
       "    }\n",
       "</style>\n",
       "<table border=\"1\" class=\"dataframe\">\n",
       "  <thead>\n",
       "    <tr style=\"text-align: right;\">\n",
       "      <th></th>\n",
       "      <th>sepal.length</th>\n",
       "      <th>sepal.width</th>\n",
       "      <th>petal.length</th>\n",
       "      <th>petal.width</th>\n",
       "      <th>variety</th>\n",
       "    </tr>\n",
       "  </thead>\n",
       "  <tbody>\n",
       "    <tr>\n",
       "      <th>0</th>\n",
       "      <td>5.1</td>\n",
       "      <td>3.5</td>\n",
       "      <td>1.4</td>\n",
       "      <td>0.2</td>\n",
       "      <td>Setosa</td>\n",
       "    </tr>\n",
       "    <tr>\n",
       "      <th>1</th>\n",
       "      <td>4.9</td>\n",
       "      <td>3.0</td>\n",
       "      <td>1.4</td>\n",
       "      <td>0.2</td>\n",
       "      <td>Setosa</td>\n",
       "    </tr>\n",
       "    <tr>\n",
       "      <th>2</th>\n",
       "      <td>4.7</td>\n",
       "      <td>3.2</td>\n",
       "      <td>1.3</td>\n",
       "      <td>0.2</td>\n",
       "      <td>Setosa</td>\n",
       "    </tr>\n",
       "    <tr>\n",
       "      <th>3</th>\n",
       "      <td>4.6</td>\n",
       "      <td>3.1</td>\n",
       "      <td>1.5</td>\n",
       "      <td>0.2</td>\n",
       "      <td>Setosa</td>\n",
       "    </tr>\n",
       "    <tr>\n",
       "      <th>4</th>\n",
       "      <td>5.0</td>\n",
       "      <td>3.6</td>\n",
       "      <td>1.4</td>\n",
       "      <td>0.2</td>\n",
       "      <td>Setosa</td>\n",
       "    </tr>\n",
       "  </tbody>\n",
       "</table>\n",
       "</div>"
      ],
      "text/plain": [
       "   sepal.length  sepal.width  petal.length  petal.width variety\n",
       "0           5.1          3.5           1.4          0.2  Setosa\n",
       "1           4.9          3.0           1.4          0.2  Setosa\n",
       "2           4.7          3.2           1.3          0.2  Setosa\n",
       "3           4.6          3.1           1.5          0.2  Setosa\n",
       "4           5.0          3.6           1.4          0.2  Setosa"
      ]
     },
     "execution_count": 3,
     "metadata": {},
     "output_type": "execute_result"
    }
   ],
   "source": [
    "iris_data = pd.read_csv(\"./data/iris.csv\")\n",
    "iris_data.head()"
   ]
  },
  {
   "cell_type": "markdown",
   "id": "79e36f26-f786-47d8-ad8a-506f6eaee287",
   "metadata": {},
   "source": [
    "# Phase exploring data analysis(EDA)::"
   ]
  },
  {
   "cell_type": "code",
   "execution_count": null,
   "id": "010a3799-592e-4bd8-91a2-d1cb064741c4",
   "metadata": {
    "tags": []
   },
   "outputs": [
    {
     "name": "stdout",
     "output_type": "stream",
     "text": [
      "<class 'pandas.core.frame.DataFrame'>\n",
      "RangeIndex: 150 entries, 0 to 149\n",
      "Data columns (total 5 columns):\n",
      " #   Column        Non-Null Count  Dtype  \n",
      "---  ------        --------------  -----  \n",
      " 0   sepal.length  150 non-null    float64\n",
      " 1   sepal.width   150 non-null    float64\n",
      " 2   petal.length  150 non-null    float64\n",
      " 3   petal.width   150 non-null    float64\n",
      " 4   variety       150 non-null    object \n",
      "dtypes: float64(4), object(1)\n",
      "memory usage: 6.0+ KB\n"
     ]
    }
   ],
   "source": [
    "iris_data.info()"
   ]
  },
  {
   "cell_type": "markdown",
   "id": "13046630-efed-4e68-9429-86d98b246e17",
   "metadata": {
    "tags": []
   },
   "source": [
    "- Just doing some checks on datatypes of columns."
   ]
  },
  {
   "cell_type": "code",
   "execution_count": null,
   "id": "afeb1e74-8b84-47d0-bf69-98568f8c401e",
   "metadata": {
    "tags": []
   },
   "outputs": [
    {
     "data": {
      "text/html": [
       "<div>\n",
       "<style scoped>\n",
       "    .dataframe tbody tr th:only-of-type {\n",
       "        vertical-align: middle;\n",
       "    }\n",
       "\n",
       "    .dataframe tbody tr th {\n",
       "        vertical-align: top;\n",
       "    }\n",
       "\n",
       "    .dataframe thead th {\n",
       "        text-align: right;\n",
       "    }\n",
       "</style>\n",
       "<table border=\"1\" class=\"dataframe\">\n",
       "  <thead>\n",
       "    <tr style=\"text-align: right;\">\n",
       "      <th></th>\n",
       "      <th>sepal.length</th>\n",
       "      <th>sepal.width</th>\n",
       "      <th>petal.length</th>\n",
       "      <th>petal.width</th>\n",
       "    </tr>\n",
       "  </thead>\n",
       "  <tbody>\n",
       "    <tr>\n",
       "      <th>count</th>\n",
       "      <td>150.000000</td>\n",
       "      <td>150.000000</td>\n",
       "      <td>150.000000</td>\n",
       "      <td>150.000000</td>\n",
       "    </tr>\n",
       "    <tr>\n",
       "      <th>mean</th>\n",
       "      <td>5.843333</td>\n",
       "      <td>3.057333</td>\n",
       "      <td>3.758000</td>\n",
       "      <td>1.199333</td>\n",
       "    </tr>\n",
       "    <tr>\n",
       "      <th>std</th>\n",
       "      <td>0.828066</td>\n",
       "      <td>0.435866</td>\n",
       "      <td>1.765298</td>\n",
       "      <td>0.762238</td>\n",
       "    </tr>\n",
       "    <tr>\n",
       "      <th>min</th>\n",
       "      <td>4.300000</td>\n",
       "      <td>2.000000</td>\n",
       "      <td>1.000000</td>\n",
       "      <td>0.100000</td>\n",
       "    </tr>\n",
       "    <tr>\n",
       "      <th>25%</th>\n",
       "      <td>5.100000</td>\n",
       "      <td>2.800000</td>\n",
       "      <td>1.600000</td>\n",
       "      <td>0.300000</td>\n",
       "    </tr>\n",
       "    <tr>\n",
       "      <th>50%</th>\n",
       "      <td>5.800000</td>\n",
       "      <td>3.000000</td>\n",
       "      <td>4.350000</td>\n",
       "      <td>1.300000</td>\n",
       "    </tr>\n",
       "    <tr>\n",
       "      <th>75%</th>\n",
       "      <td>6.400000</td>\n",
       "      <td>3.300000</td>\n",
       "      <td>5.100000</td>\n",
       "      <td>1.800000</td>\n",
       "    </tr>\n",
       "    <tr>\n",
       "      <th>max</th>\n",
       "      <td>7.900000</td>\n",
       "      <td>4.400000</td>\n",
       "      <td>6.900000</td>\n",
       "      <td>2.500000</td>\n",
       "    </tr>\n",
       "  </tbody>\n",
       "</table>\n",
       "</div>"
      ],
      "text/plain": [
       "       sepal.length  sepal.width  petal.length  petal.width\n",
       "count    150.000000   150.000000    150.000000   150.000000\n",
       "mean       5.843333     3.057333      3.758000     1.199333\n",
       "std        0.828066     0.435866      1.765298     0.762238\n",
       "min        4.300000     2.000000      1.000000     0.100000\n",
       "25%        5.100000     2.800000      1.600000     0.300000\n",
       "50%        5.800000     3.000000      4.350000     1.300000\n",
       "75%        6.400000     3.300000      5.100000     1.800000\n",
       "max        7.900000     4.400000      6.900000     2.500000"
      ]
     },
     "execution_count": 268,
     "metadata": {},
     "output_type": "execute_result"
    }
   ],
   "source": [
    "iris_data.describe()"
   ]
  },
  {
   "cell_type": "code",
   "execution_count": null,
   "id": "c79a34b9-4e67-4517-8e65-38a35c50c6a2",
   "metadata": {
    "tags": []
   },
   "outputs": [
    {
     "data": {
      "text/plain": [
       "sepal.length    0\n",
       "sepal.width     0\n",
       "petal.length    0\n",
       "petal.width     0\n",
       "variety         0\n",
       "dtype: int64"
      ]
     },
     "execution_count": 269,
     "metadata": {},
     "output_type": "execute_result"
    }
   ],
   "source": [
    "iris_data.isnull().sum()"
   ]
  },
  {
   "cell_type": "markdown",
   "id": "63c57fb6-fd14-47a1-a6cc-8d396e411da7",
   "metadata": {},
   "source": [
    "- Checking if the rows contains any null values. It doesn't contain any null values otherwise we should go for adjusting the values."
   ]
  },
  {
   "cell_type": "markdown",
   "id": "319edea7-5486-4c03-ab95-a6b9faa3374e",
   "metadata": {},
   "source": [
    "# Plotting histogram of the features used to predict the variety::"
   ]
  },
  {
   "cell_type": "code",
   "execution_count": null,
   "id": "27f3a356-cb96-4da2-b6dd-e1857820809c",
   "metadata": {
    "tags": []
   },
   "outputs": [
    {
     "data": {
      "image/png": "[encoded data removed]",
      "text/plain": [
       "<Figure size 1000x1000 with 4 Axes>"
      ]
     },
     "metadata": {},
     "output_type": "display_data"
    }
   ],
   "source": [
    "plt.figure(figsize=(10, 10))\n",
    "for index, feature in enumerate([\"sepal.length\",\"sepal.width\",\"petal.length\",\"petal.width\"]):\n",
    "    plt.subplot(2, 2, index+1)\n",
    "    sns.histplot(data=iris_data, x=feature, hue='variety', kde=True, palette='Set1', bins=15)\n",
    "    plt.title(f\"Histogram of {feature}\")\n",
    "    plt.xlabel(feature)\n",
    "    plt.ylabel('Frequency')\n",
    "\n",
    "plt.tight_layout()\n",
    "plt.show()"
   ]
  },
  {
   "cell_type": "markdown",
   "id": "33b8d74f-96be-421e-9a16-f9cbf7f19398",
   "metadata": {},
   "source": [
    "### Analysis of histogram:\n",
    "- From the histogram of sepal length, we can see that there is a huge overlapping of Virginica, Versicolor, and Setosa.\n",
    "- From the histogram of sepal width, we can feel even more crossing-overs and overlaps with each other.\n",
    "The histogram of petal length as well as petal width shows distinct character for Setosa whereas there is only some overlapping between Versicolor and Virginica.\n",
    "- we can see ranges, where different species lie on sepal lengths like Setosa lies on 4.7 to 5.0, versicolor lies on 5.5 to 7 and Virginica lies on 6.3 to 6.5, similarly, we can also observe the ranges for other features.\n",
    "- The distribution for petal width and length can distinct Setosa more accurately which lies on 1 to 2.1 length and 0.2 to 0.7 width while only small overlapping is seen for versicolor and virginca for both petal length and width.\n",
    "- Sepal width in general is so overlapped, we can even ignore the column for the training our model.\n"
   ]
  },
  {
   "cell_type": "markdown",
   "id": "b70b71ad-eb9c-46b8-94cf-8b296988231e",
   "metadata": {},
   "source": [
    "## Encoding the label:::\n",
    " The target or label is catagorical which need to be changed to numeric data, as we have three variety, those will be changed to 0, 1, 2."
   ]
  },
  {
   "cell_type": "code",
   "execution_count": null,
   "id": "f894102e-da02-4f03-b4d1-234374dadf4f",
   "metadata": {
    "tags": []
   },
   "outputs": [
    {
     "data": {
      "text/html": [
       "<div>\n",
       "<style scoped>\n",
       "    .dataframe tbody tr th:only-of-type {\n",
       "        vertical-align: middle;\n",
       "    }\n",
       "\n",
       "    .dataframe tbody tr th {\n",
       "        vertical-align: top;\n",
       "    }\n",
       "\n",
       "    .dataframe thead th {\n",
       "        text-align: right;\n",
       "    }\n",
       "</style>\n",
       "<table border=\"1\" class=\"dataframe\">\n",
       "  <thead>\n",
       "    <tr style=\"text-align: right;\">\n",
       "      <th></th>\n",
       "      <th>sepal.length</th>\n",
       "      <th>sepal.width</th>\n",
       "      <th>petal.length</th>\n",
       "      <th>petal.width</th>\n",
       "      <th>variety</th>\n",
       "      <th>target</th>\n",
       "    </tr>\n",
       "  </thead>\n",
       "  <tbody>\n",
       "    <tr>\n",
       "      <th>0</th>\n",
       "      <td>5.1</td>\n",
       "      <td>3.5</td>\n",
       "      <td>1.4</td>\n",
       "      <td>0.2</td>\n",
       "      <td>Setosa</td>\n",
       "      <td>0</td>\n",
       "    </tr>\n",
       "    <tr>\n",
       "      <th>1</th>\n",
       "      <td>4.9</td>\n",
       "      <td>3.0</td>\n",
       "      <td>1.4</td>\n",
       "      <td>0.2</td>\n",
       "      <td>Setosa</td>\n",
       "      <td>0</td>\n",
       "    </tr>\n",
       "    <tr>\n",
       "      <th>2</th>\n",
       "      <td>4.7</td>\n",
       "      <td>3.2</td>\n",
       "      <td>1.3</td>\n",
       "      <td>0.2</td>\n",
       "      <td>Setosa</td>\n",
       "      <td>0</td>\n",
       "    </tr>\n",
       "    <tr>\n",
       "      <th>3</th>\n",
       "      <td>4.6</td>\n",
       "      <td>3.1</td>\n",
       "      <td>1.5</td>\n",
       "      <td>0.2</td>\n",
       "      <td>Setosa</td>\n",
       "      <td>0</td>\n",
       "    </tr>\n",
       "    <tr>\n",
       "      <th>4</th>\n",
       "      <td>5.0</td>\n",
       "      <td>3.6</td>\n",
       "      <td>1.4</td>\n",
       "      <td>0.2</td>\n",
       "      <td>Setosa</td>\n",
       "      <td>0</td>\n",
       "    </tr>\n",
       "  </tbody>\n",
       "</table>\n",
       "</div>"
      ],
      "text/plain": [
       "   sepal.length  sepal.width  petal.length  petal.width variety  target\n",
       "0           5.1          3.5           1.4          0.2  Setosa       0\n",
       "1           4.9          3.0           1.4          0.2  Setosa       0\n",
       "2           4.7          3.2           1.3          0.2  Setosa       0\n",
       "3           4.6          3.1           1.5          0.2  Setosa       0\n",
       "4           5.0          3.6           1.4          0.2  Setosa       0"
      ]
     },
     "execution_count": 271,
     "metadata": {},
     "output_type": "execute_result"
    }
   ],
   "source": [
    "label_encoder = LabelEncoder()\n",
    "iris_data['target'] = label_encoder.fit_transform(iris_data['variety'])\n",
    "iris_data.head()"
   ]
  },
  {
   "cell_type": "markdown",
   "id": "c23502b7-c9c3-42ea-960c-c6b9ec99203c",
   "metadata": {},
   "source": [
    "## Splitting the dataset"
   ]
  },
  {
   "cell_type": "code",
   "execution_count": null,
   "id": "6fed8bf8-2e6f-4f33-af9c-8aebe4de94ba",
   "metadata": {
    "tags": []
   },
   "outputs": [],
   "source": [
    "iris_data_dropped_variety = iris_data.drop('variety', axis=1)\n",
    "x = iris_data_dropped_variety.drop('target', axis=1)\n",
    "y = iris_data['target']\n",
    "\n",
    "y.head()"
   ]
  },
  {
   "cell_type": "markdown",
   "id": "4ae5c86d-5a2b-4c7b-be91-815a1f522256",
   "metadata": {},
   "source": [
    "- Splitting data into 60 , 20, 20 ratio"
   ]
  },
  {
   "cell_type": "code",
   "execution_count": null,
   "id": "c4df668d-2be8-41cd-9dc8-87dd920f51bf",
   "metadata": {},
   "outputs": [],
   "source": [
    "X_train, X_temp, Y_train, Y_temp = train_test_split(x, y, test_size=0.4, random_state=42)\n",
    "X_val, X_test, Y_val, Y_test = train_test_split(X_temp, Y_temp, test_size=0.5, random_state=42)"
   ]
  },
  {
   "cell_type": "markdown",
   "id": "9eba626f-1045-483e-9b79-b0eb8df3a522",
   "metadata": {
    "tags": []
   },
   "source": [
    "- Splitting data into 80 , 10, 10 ratio"
   ]
  },
  {
   "cell_type": "code",
   "execution_count": null,
   "id": "44e43ce2-329d-451e-8fd0-3fa2ba0fb635",
   "metadata": {},
   "outputs": [],
   "source": [
    "X_train_1, X_temp_1, Y_train_1, Y_temp_1 = train_test_split(x, y, test_size=0.2, random_state=42)\n",
    "X_val_1, X_test_1, Y_val_1, Y_test_1 = train_test_split(X_temp_1, Y_temp_1, test_size=0.5, random_state=42)"
   ]
  },
  {
   "cell_type": "code",
   "execution_count": null,
   "id": "28e77a8e-688b-4711-8e1a-62b5789face5",
   "metadata": {
    "tags": []
   },
   "outputs": [
    {
     "name": "stdout",
     "output_type": "stream",
     "text": [
      "150 90 30 30\n",
      "150 120 15 15\n"
     ]
    }
   ],
   "source": [
    "print(len(iris_data),len(X_train), len(X_val),len(X_test))\n",
    "print(len(iris_data),len(X_train_1), len(X_val_1),len(X_test_1))"
   ]
  },
  {
   "cell_type": "markdown",
   "id": "870097a7-5317-4b93-80c7-a8d2c13a35da",
   "metadata": {},
   "source": [
    "# The dataframe has been divided into two dataset:\n",
    "- First of all the data is seperated to features and label denoted by X and Y\n",
    "- X_train, X_val, X_test for ratio 60, 20, 20\n",
    "- X_train_1, X_val_1, X_test_1 for ratio 80, 10, 10"
   ]
  },
  {
   "cell_type": "markdown",
   "id": "3ef145f5-59b5-40ab-b08f-55a059e5ff45",
   "metadata": {},
   "source": [
    "## Grid search and print the best params with best result."
   ]
  },
  {
   "cell_type": "code",
   "execution_count": null,
   "id": "e7b820da-0873-4aff-95eb-dace0173dc19",
   "metadata": {},
   "outputs": [],
   "source": [
    "# Grid search function for finding best scores and params.\n",
    "def findBestScoreAndParams(model, params, X_train, Y_train, dataSetType='60 percent ratio'):\n",
    "    grid_search_cv = GridSearchCV(model, params, cv=5, n_jobs=-1, verbose=2)    \n",
    "    grid_search_cv.fit(X_train, Y_train)\n",
    "    print(f\"Best Hyperparameters for model {dataSetType} train dataset::\")\n",
    "    print(grid_search_cv.best_params_)\n",
    "    print(f\"Best Score for model {dataSetType} train dataset::\", round(grid_search_cv.best_score_,3),'\\n')"
   ]
  },
  {
   "cell_type": "markdown",
   "id": "74f2b215-5274-40d1-b032-54768fec64ce",
   "metadata": {
    "tags": []
   },
   "source": [
    "## Using grid search for the randomforest model to find the best hyperparameters"
   ]
  },
  {
   "cell_type": "code",
   "execution_count": null,
   "id": "c54efaff-7587-434c-ae67-8858bdd6b154",
   "metadata": {
    "tags": []
   },
   "outputs": [],
   "source": [
    "params_for_rf = {\n",
    "    'n_estimators': [20, 50, 70],  \n",
    "    'max_depth': [None, 10, 20, 30],\n",
    "    'min_samples_split': [2, 5, 10], \n",
    "    'min_samples_leaf': [1, 2, 4]\n",
    "}\n",
    "\n",
    "RfModel = RandomForestClassifier(random_state=42)"
   ]
  },
  {
   "cell_type": "markdown",
   "id": "82458eb5-af7b-46da-93e9-260de6735c5d",
   "metadata": {},
   "source": [
    "- 5-fold cross validation for 60 20 20 data ratio for RF"
   ]
  },
  {
   "cell_type": "code",
   "execution_count": null,
   "id": "d7fd1255-9e7e-4752-baff-1fbc8f22f75a",
   "metadata": {
    "tags": []
   },
   "outputs": [
    {
     "data": {
      "text/plain": [
       "array([1.        , 0.72222222, 0.94444444, 1.        , 0.94444444])"
      ]
     },
     "execution_count": 278,
     "metadata": {},
     "output_type": "execute_result"
    }
   ],
   "source": [
    "scores_for_ratio_60 = cross_val_score(RfModel, X_train, Y_train, cv=5)\n",
    "scores_for_ratio_60"
   ]
  },
  {
   "cell_type": "markdown",
   "id": "e2e53da1-3ccb-4c7a-83d0-daed5b66ee49",
   "metadata": {},
   "source": [
    "- 5-fold cross validation for 80 10 10 data ratio for RF"
   ]
  },
  {
   "cell_type": "code",
   "execution_count": null,
   "id": "b7c42383-92c9-403b-aa54-38d274547bd5",
   "metadata": {
    "tags": []
   },
   "outputs": [
    {
     "data": {
      "text/plain": [
       "array([0.95833333, 0.95833333, 0.83333333, 1.        , 0.95833333])"
      ]
     },
     "execution_count": 279,
     "metadata": {},
     "output_type": "execute_result"
    }
   ],
   "source": [
    "scores_for_ratio_80 = cross_val_score(RfModel, X_train_1, Y_train_1, cv=5)\n",
    "scores_for_ratio_80"
   ]
  },
  {
   "cell_type": "code",
   "execution_count": null,
   "id": "0e47c6d7-8c8c-4d02-814e-664a9df7cea8",
   "metadata": {
    "tags": []
   },
   "outputs": [
    {
     "name": "stdout",
     "output_type": "stream",
     "text": [
      "Fitting 5 folds for each of 108 candidates, totalling 540 fits\n",
      "Best Hyperparameters for model 60 percent ratio train dataset::\n",
      "{'max_depth': None, 'min_samples_leaf': 1, 'min_samples_split': 5, 'n_estimators': 50}\n",
      "Best Score for model 60 percent ratio train dataset:: 0.933 \n",
      "\n"
     ]
    }
   ],
   "source": [
    "findBestScoreAndParams(RfModel, params_for_rf, X_train, Y_train)"
   ]
  },
  {
   "cell_type": "code",
   "execution_count": null,
   "id": "d76ff034-2360-4a51-b4be-41dd02f7de98",
   "metadata": {
    "tags": []
   },
   "outputs": [
    {
     "name": "stdout",
     "output_type": "stream",
     "text": [
      "Fitting 5 folds for each of 108 candidates, totalling 540 fits\n",
      "Best Hyperparameters for model 80 percent ratio train dataset::\n",
      "{'max_depth': None, 'min_samples_leaf': 1, 'min_samples_split': 5, 'n_estimators': 50}\n",
      "Best Score for model 80 percent ratio train dataset:: 0.95 \n",
      "\n"
     ]
    }
   ],
   "source": [
    "findBestScoreAndParams(RfModel, params_for_rf, X_train_1, Y_train_1, '80 percent ratio')"
   ]
  },
  {
   "cell_type": "markdown",
   "id": "826e46f9-0f79-4947-9ec7-396f41aa31bb",
   "metadata": {},
   "source": [
    "## Using grid search for the logistic regression model to find the best hyperparameters"
   ]
  },
  {
   "cell_type": "code",
   "execution_count": null,
   "id": "af59620e-bf79-4ca2-96c1-200312930997",
   "metadata": {
    "tags": []
   },
   "outputs": [],
   "source": [
    "params_for_lr = {\n",
    "    'penalty': [None,'l2'], \n",
    "    'solver': ['saga', 'lbfgs','sag','newton-cg'],\n",
    "}\n",
    "\n",
    "LrModel = LogisticRegression(random_state=42)\n"
   ]
  },
  {
   "cell_type": "markdown",
   "id": "26b41083-6e43-414a-bfd0-5be3e8df3548",
   "metadata": {
    "tags": []
   },
   "source": [
    "- 5-fold cross validation for 60 20 20 data ratio for LR"
   ]
  },
  {
   "cell_type": "code",
   "execution_count": null,
   "id": "d77d1920-e97d-44a9-b873-61d61f7ce08c",
   "metadata": {},
   "outputs": [
    {
     "name": "stderr",
     "output_type": "stream",
     "text": [
      "C:\\Users\\aacic\\anaconda3\\envs\\iris_dataset_assignment\\Lib\\site-packages\\sklearn\\linear_model\\_logistic.py:458: ConvergenceWarning: lbfgs failed to converge (status=1):\n",
      "STOP: TOTAL NO. of ITERATIONS REACHED LIMIT.\n",
      "\n",
      "Increase the number of iterations (max_iter) or scale the data as shown in:\n",
      "    https://scikit-learn.org/stable/modules/preprocessing.html\n",
      "Please also refer to the documentation for alternative solver options:\n",
      "    https://scikit-learn.org/stable/modules/linear_model.html#logistic-regression\n",
      "  n_iter_i = _check_optimize_result(\n",
      "C:\\Users\\aacic\\anaconda3\\envs\\iris_dataset_assignment\\Lib\\site-packages\\sklearn\\linear_model\\_logistic.py:458: ConvergenceWarning: lbfgs failed to converge (status=1):\n",
      "STOP: TOTAL NO. of ITERATIONS REACHED LIMIT.\n",
      "\n",
      "Increase the number of iterations (max_iter) or scale the data as shown in:\n",
      "    https://scikit-learn.org/stable/modules/preprocessing.html\n",
      "Please also refer to the documentation for alternative solver options:\n",
      "    https://scikit-learn.org/stable/modules/linear_model.html#logistic-regression\n",
      "  n_iter_i = _check_optimize_result(\n",
      "C:\\Users\\aacic\\anaconda3\\envs\\iris_dataset_assignment\\Lib\\site-packages\\sklearn\\linear_model\\_logistic.py:458: ConvergenceWarning: lbfgs failed to converge (status=1):\n",
      "STOP: TOTAL NO. of ITERATIONS REACHED LIMIT.\n",
      "\n",
      "Increase the number of iterations (max_iter) or scale the data as shown in:\n",
      "    https://scikit-learn.org/stable/modules/preprocessing.html\n",
      "Please also refer to the documentation for alternative solver options:\n",
      "    https://scikit-learn.org/stable/modules/linear_model.html#logistic-regression\n",
      "  n_iter_i = _check_optimize_result(\n"
     ]
    },
    {
     "data": {
      "text/plain": [
       "array([1.        , 0.77777778, 1.        , 1.        , 0.94444444])"
      ]
     },
     "execution_count": 283,
     "metadata": {},
     "output_type": "execute_result"
    }
   ],
   "source": [
    "scores_for_ratio_60 = cross_val_score(LrModel, X_train, Y_train, cv=5)\n",
    "scores_for_ratio_60"
   ]
  },
  {
   "cell_type": "markdown",
   "id": "f4230b4b-2ee2-43be-a999-b7ba2e0c6bf3",
   "metadata": {
    "tags": []
   },
   "source": [
    "- 5-fold cross validation for 80 10 10 data ratio"
   ]
  },
  {
   "cell_type": "code",
   "execution_count": null,
   "id": "0bdefb38-9e9b-41a7-be7e-2ee268b41584",
   "metadata": {},
   "outputs": [
    {
     "name": "stderr",
     "output_type": "stream",
     "text": [
      "C:\\Users\\aacic\\anaconda3\\envs\\iris_dataset_assignment\\Lib\\site-packages\\sklearn\\linear_model\\_logistic.py:458: ConvergenceWarning: lbfgs failed to converge (status=1):\n",
      "STOP: TOTAL NO. of ITERATIONS REACHED LIMIT.\n",
      "\n",
      "Increase the number of iterations (max_iter) or scale the data as shown in:\n",
      "    https://scikit-learn.org/stable/modules/preprocessing.html\n",
      "Please also refer to the documentation for alternative solver options:\n",
      "    https://scikit-learn.org/stable/modules/linear_model.html#logistic-regression\n",
      "  n_iter_i = _check_optimize_result(\n",
      "C:\\Users\\aacic\\anaconda3\\envs\\iris_dataset_assignment\\Lib\\site-packages\\sklearn\\linear_model\\_logistic.py:458: ConvergenceWarning: lbfgs failed to converge (status=1):\n",
      "STOP: TOTAL NO. of ITERATIONS REACHED LIMIT.\n",
      "\n",
      "Increase the number of iterations (max_iter) or scale the data as shown in:\n",
      "    https://scikit-learn.org/stable/modules/preprocessing.html\n",
      "Please also refer to the documentation for alternative solver options:\n",
      "    https://scikit-learn.org/stable/modules/linear_model.html#logistic-regression\n",
      "  n_iter_i = _check_optimize_result(\n"
     ]
    },
    {
     "data": {
      "text/plain": [
       "array([1.        , 1.        , 0.875     , 1.        , 0.95833333])"
      ]
     },
     "execution_count": 284,
     "metadata": {},
     "output_type": "execute_result"
    }
   ],
   "source": [
    "scores_for_ratio_80 = cross_val_score(LrModel, X_train_1, Y_train_1, cv=5)\n",
    "scores_for_ratio_80"
   ]
  },
  {
   "cell_type": "code",
   "execution_count": null,
   "id": "516fa3dd-6b06-4319-8936-bf2f2e32c171",
   "metadata": {
    "tags": []
   },
   "outputs": [
    {
     "name": "stdout",
     "output_type": "stream",
     "text": [
      "Fitting 5 folds for each of 8 candidates, totalling 40 fits\n",
      "Best Hyperparameters for model 60 percent ratio train dataset::\n",
      "{'penalty': None, 'solver': 'lbfgs'}\n",
      "Best Score for model 60 percent ratio train dataset:: 0.967 \n",
      "\n"
     ]
    }
   ],
   "source": [
    "findBestScoreAndParams(LrModel, params_for_lr, X_train, Y_train)"
   ]
  },
  {
   "cell_type": "code",
   "execution_count": null,
   "id": "70c96270-5393-40a7-85be-5601bf8c90bf",
   "metadata": {
    "tags": []
   },
   "outputs": [
    {
     "name": "stdout",
     "output_type": "stream",
     "text": [
      "Fitting 5 folds for each of 8 candidates, totalling 40 fits\n",
      "Best Hyperparameters for model 80 percent ratio train dataset::\n",
      "{'penalty': 'l2', 'solver': 'saga'}\n",
      "Best Score for model 80 percent ratio train dataset:: 0.975 \n",
      "\n"
     ]
    },
    {
     "name": "stderr",
     "output_type": "stream",
     "text": [
      "C:\\Users\\aacic\\anaconda3\\envs\\iris_dataset_assignment\\Lib\\site-packages\\sklearn\\linear_model\\_sag.py:350: ConvergenceWarning: The max_iter was reached which means the coef_ did not converge\n",
      "  warnings.warn(\n"
     ]
    }
   ],
   "source": [
    "findBestScoreAndParams(LrModel, params_for_lr, X_train_1, Y_train_1, '80 percent ratio')"
   ]
  },
  {
   "cell_type": "markdown",
   "id": "e318e0a4-8bac-495f-ab0b-735ddef73f95",
   "metadata": {},
   "source": [
    "## Using grid search for the gradient boosting model to find the best hyperparameters"
   ]
  },
  {
   "cell_type": "code",
   "execution_count": null,
   "id": "5e8c0589-872e-4b1f-9110-e8d568ab650a",
   "metadata": {
    "tags": []
   },
   "outputs": [],
   "source": [
    "params_for_gb = {\n",
    "    'n_estimators': [20, 50, 70],  \n",
    "    'max_depth': [None, 10, 20, 30],\n",
    "    'min_samples_split': [2, 5, 10], \n",
    "    'min_samples_leaf': [1, 2, 4]\n",
    "}\n",
    "\n",
    "GbModel = GradientBoostingClassifier(random_state=42)"
   ]
  },
  {
   "cell_type": "markdown",
   "id": "10c86603-6c48-4a38-ab47-cb66a865c73e",
   "metadata": {},
   "source": [
    "- 5-fold cross validation for 60 20 20 data ratio for gb"
   ]
  },
  {
   "cell_type": "code",
   "execution_count": null,
   "id": "91e3131f-e21c-469e-9575-57bc8f25f5cc",
   "metadata": {},
   "outputs": [
    {
     "data": {
      "text/plain": [
       "array([0.88888889, 0.72222222, 1.        , 0.94444444, 0.94444444])"
      ]
     },
     "execution_count": 288,
     "metadata": {},
     "output_type": "execute_result"
    }
   ],
   "source": [
    "scores_for_ratio_60 = cross_val_score(GbModel, X_train, Y_train, cv=5)\n",
    "scores_for_ratio_60"
   ]
  },
  {
   "cell_type": "markdown",
   "id": "88cd69d4-ccf4-49f7-b2e0-037f22a9ff1c",
   "metadata": {
    "tags": []
   },
   "source": [
    "- 5-fold cross validation for 80 10 10 data ratio for gb"
   ]
  },
  {
   "cell_type": "code",
   "execution_count": null,
   "id": "5ff67121-1f2a-44c7-ba8f-cbe330eabf56",
   "metadata": {},
   "outputs": [
    {
     "data": {
      "text/plain": [
       "array([0.95833333, 1.        , 0.83333333, 0.95833333, 0.95833333])"
      ]
     },
     "execution_count": 289,
     "metadata": {},
     "output_type": "execute_result"
    }
   ],
   "source": [
    "scores_for_ratio_80 = cross_val_score(GbModel, X_train_1, Y_train_1, cv=5)\n",
    "scores_for_ratio_80"
   ]
  },
  {
   "cell_type": "code",
   "execution_count": null,
   "id": "4aa05aa9-0133-40f9-9f6f-f0845d76d6d1",
   "metadata": {
    "tags": []
   },
   "outputs": [
    {
     "name": "stdout",
     "output_type": "stream",
     "text": [
      "Fitting 5 folds for each of 108 candidates, totalling 540 fits\n",
      "Best Hyperparameters for model 60 percent ratio train dataset::\n",
      "{'max_depth': None, 'min_samples_leaf': 4, 'min_samples_split': 10, 'n_estimators': 20}\n",
      "Best Score for model 60 percent ratio train dataset:: 0.933 \n",
      "\n"
     ]
    }
   ],
   "source": [
    "findBestScoreAndParams(GbModel, params_for_gb, X_train, Y_train)"
   ]
  },
  {
   "cell_type": "code",
   "execution_count": null,
   "id": "42b6a568-b74d-4018-a3cf-ad3d32755209",
   "metadata": {
    "tags": []
   },
   "outputs": [
    {
     "name": "stdout",
     "output_type": "stream",
     "text": [
      "Fitting 5 folds for each of 108 candidates, totalling 540 fits\n",
      "Best Hyperparameters for model 80 percent ratio train dataset::\n",
      "{'max_depth': None, 'min_samples_leaf': 1, 'min_samples_split': 2, 'n_estimators': 20}\n",
      "Best Score for model 80 percent ratio train dataset:: 0.95 \n",
      "\n"
     ]
    }
   ],
   "source": [
    "findBestScoreAndParams(GbModel, params_for_gb, X_train_1, Y_train_1, '80 percent ratio')"
   ]
  },
  {
   "cell_type": "markdown",
   "id": "53d48bda-63e1-4bc4-ac7a-b33bbc06bfb4",
   "metadata": {},
   "source": [
    "## Writing helper functions for printing the validation and test results"
   ]
  },
  {
   "cell_type": "code",
   "execution_count": null,
   "id": "ec23da60-d469-44d4-86b2-ad98a8d6e3bd",
   "metadata": {
    "tags": []
   },
   "outputs": [],
   "source": [
    "def printValidationResult(model, x_val, y_val):\n",
    "    validation_start_time = time.time()\n",
    "    validation_predict = model.predict(x_val)\n",
    "    execution_time = time.time() - validation_start_time\n",
    "    validation_data_accuracy = accuracy_score(y_val, validation_predict)\n",
    "    validation_data_precision = precision_score(y_val, validation_predict, average='weighted')\n",
    "    validation_data_recall = recall_score(y_val, validation_predict, average='weighted')\n",
    "\n",
    "    print(\"Results for second dataset {}\".format(model))\n",
    "    print(f\"Time taken for validation predict execution of {execution_time} seconds\")\n",
    "    print(\"Validation data Accuracy:\", round(validation_data_accuracy,3))\n",
    "    print(\"Validation data Precision:\", round(validation_data_precision,3))\n",
    "    print(\"Validation data Recall:\", round(validation_data_recall,3))\n",
    "    \n",
    "def printTestResult(model, x_test, y_test):\n",
    "    test_start_time = time.time()\n",
    "    test_predict = model.predict(x_test)\n",
    "    execution_time = time.time() - test_start_time\n",
    "    test_data_accuracy = accuracy_score(y_test, test_predict)\n",
    "    test_data_precision = precision_score(y_test, test_predict, average='weighted')\n",
    "    test_data_recall = recall_score(y_test, test_predict, average='weighted')\n",
    "\n",
    "    print(f\"Time taken for test predict execution {execution_time} seconds\")\n",
    "    print(\"Test data Accuracy:\", round(test_data_accuracy,3))\n",
    "    print(\"Test data Precision:\", round(test_data_precision,3))\n",
    "    print(\"Test data Recall:\", round(test_data_recall,3),'\\n')"
   ]
  },
  {
   "cell_type": "markdown",
   "id": "49ed2b54-51d6-444f-b12f-34f5b9c337c7",
   "metadata": {},
   "source": [
    "## Fitting the model with the respective best hyperparameters found and doing the validation and test for the dataset(60,20,20)"
   ]
  },
  {
   "cell_type": "code",
   "execution_count": null,
   "id": "5a3e9e85-b17d-4506-becb-0b7f072de275",
   "metadata": {
    "tags": []
   },
   "outputs": [
    {
     "name": "stdout",
     "output_type": "stream",
     "text": [
      "Results for second dataset RandomForestClassifier(min_samples_split=5, n_estimators=50)\n",
      "Time taken for validation predict execution of 0.013541936874389648 seconds\n",
      "Validation data Accuracy: 1.0\n",
      "Validation data Precision: 1.0\n",
      "Validation data Recall: 1.0\n",
      "Time taken for test predict execution 0.007158041000366211 seconds\n",
      "Test data Accuracy: 0.967\n",
      "Test data Precision: 0.969\n",
      "Test data Recall: 0.967 \n",
      "\n",
      "Results for second dataset LogisticRegression(penalty=None)\n",
      "Time taken for validation predict execution of 0.0017535686492919922 seconds\n",
      "Validation data Accuracy: 1.0\n",
      "Validation data Precision: 1.0\n",
      "Validation data Recall: 1.0\n",
      "Time taken for test predict execution 0.002418994903564453 seconds\n",
      "Test data Accuracy: 0.967\n",
      "Test data Precision: 0.969\n",
      "Test data Recall: 0.967 \n",
      "\n",
      "Results for second dataset GradientBoostingClassifier(max_depth=None, min_samples_leaf=4,\n",
      "                           min_samples_split=10, n_estimators=20)\n",
      "Time taken for validation predict execution of 0.0009987354278564453 seconds\n",
      "Validation data Accuracy: 1.0\n",
      "Validation data Precision: 1.0\n",
      "Validation data Recall: 1.0\n",
      "Time taken for test predict execution 0.0 seconds\n",
      "Test data Accuracy: 0.967\n",
      "Test data Precision: 0.969\n",
      "Test data Recall: 0.967 \n",
      "\n"
     ]
    }
   ],
   "source": [
    "rf = RandomForestClassifier(max_depth = None, min_samples_leaf = 1, min_samples_split = 5, n_estimators = 50)\n",
    "lr = LogisticRegression(penalty= None, solver = 'lbfgs')\n",
    "gb = GradientBoostingClassifier(max_depth = None, min_samples_leaf = 4, min_samples_split = 10, n_estimators = 20)\n",
    "\n",
    "for model in [rf, lr, gb]:\n",
    "    model.fit(X_train, Y_train)\n",
    "    printValidationResult(model, X_val, Y_val)\n",
    "    printTestResult(model, X_test, Y_test)"
   ]
  },
  {
   "cell_type": "markdown",
   "id": "cf62d33c-f197-48cc-89ea-bc2e9c4e9236",
   "metadata": {},
   "source": [
    "## Fitting the model with the respective best hyperparameters found and doing the validation and test for the dataset(80,10,10)"
   ]
  },
  {
   "cell_type": "code",
   "execution_count": null,
   "id": "575f34ec-96a7-4532-af99-aefeaa52b72b",
   "metadata": {
    "tags": []
   },
   "outputs": [
    {
     "name": "stdout",
     "output_type": "stream",
     "text": [
      "Results for second dataset RandomForestClassifier(min_samples_split=5, n_estimators=50)\n",
      "Time taken for validation predict execution of 0.016841888427734375 seconds\n",
      "Validation data Accuracy: 1.0\n",
      "Validation data Precision: 1.0\n",
      "Validation data Recall: 1.0\n",
      "Time taken for test predict execution 0.015305280685424805 seconds\n",
      "Test data Accuracy: 1.0\n",
      "Test data Precision: 1.0\n",
      "Test data Recall: 1.0 \n",
      "\n",
      "Results for second dataset LogisticRegression(solver='saga')\n",
      "Time taken for validation predict execution of 0.0009961128234863281 seconds\n",
      "Validation data Accuracy: 1.0\n",
      "Validation data Precision: 1.0\n",
      "Validation data Recall: 1.0\n",
      "Time taken for test predict execution 0.0 seconds\n",
      "Test data Accuracy: 1.0\n",
      "Test data Precision: 1.0\n",
      "Test data Recall: 1.0 \n",
      "\n",
      "Results for second dataset GradientBoostingClassifier(max_depth=None, n_estimators=20)\n",
      "Time taken for validation predict execution of 0.0 seconds\n",
      "Validation data Accuracy: 1.0\n",
      "Validation data Precision: 1.0\n",
      "Validation data Recall: 1.0\n",
      "Time taken for test predict execution 0.0130462646484375 seconds\n",
      "Test data Accuracy: 1.0\n",
      "Test data Precision: 1.0\n",
      "Test data Recall: 1.0 \n",
      "\n"
     ]
    },
    {
     "name": "stderr",
     "output_type": "stream",
     "text": [
      "C:\\Users\\aacic\\anaconda3\\envs\\iris_dataset_assignment\\Lib\\site-packages\\sklearn\\linear_model\\_sag.py:350: ConvergenceWarning: The max_iter was reached which means the coef_ did not converge\n",
      "  warnings.warn(\n"
     ]
    }
   ],
   "source": [
    "rf1 = RandomForestClassifier(max_depth = None, min_samples_leaf = 1, min_samples_split = 5, n_estimators = 50)\n",
    "lr1 = LogisticRegression(penalty= 'l2', solver = 'saga')\n",
    "gb1 = GradientBoostingClassifier(max_depth = None, min_samples_leaf = 1, min_samples_split = 2, n_estimators = 20)\n",
    "\n",
    "for model in [rf1, lr1, gb1]:\n",
    "    model.fit(X_train_1, Y_train_1)\n",
    "    printValidationResult(model, X_val_1, Y_val_1)\n",
    "    printTestResult(model, X_test_1, Y_test_1)"
   ]
  },
  {
   "cell_type": "markdown",
   "id": "fbde9ae4-7d8a-487c-9928-6bcd2edb368d",
   "metadata": {
    "tags": []
   },
   "source": [
    "## Observation on Accuracy after predict\n",
    "For the training data set of ratio 60 20 20 with grid search, the random forest model and gradient boosting model show same 0.9333 best scores with hyperparameters {'max_depth': None, 'min_samples_leaf': 1, 'min_samples_split': 5, 'n_estimators': 50} and {'max_depth': None, 'min_samples_leaf': 1, 'min_samples_split': 5, 'n_estimators': 50} respectively whilst the Logistic regression has 0.967 best score with hyper-params {'penalty': None, 'solver': 'lbfgs'}\n",
    "In this case, we can see logistic regression has the best score than the other two.\n",
    "\n",
    "Similarly, For the training data set of ratio 80 10 10 with grid search, the random forest model and gradient boosting model show same 0.95 best scores with hyperparameters {'max_depth': None, 'min_samples_leaf': 1, 'min_samples_split': 5, 'n_estimators': 50} and {'max_depth': None, 'min_samples_leaf': 1, 'min_samples_split': 2, 'n_estimators': 20} respectively whilst the logistic regression has 0.975 best score with hyperparams {'penalty': 'l2', 'solver': 'saga'}. In this case, we can see logistic regression has again better score than the other two for the increased training dataset.\n",
    "\n",
    "We can see that increasing the training data set has also increased the score of each model. On further fitting those models with the validation and test data using the best hyper-params, the Accuracy is 1.0, Precision is 1.0, Recall is 1.0 for validation data and Accuracy is 0.967, Precision is 0.969, Recall is 0.967 for test data for all model whilst the score increased to Accuracy is 1, Precision is 1, Recall is 1  for test data when taken from ratio 80 10 10 for all three models.\n",
    "\n",
    "The dataset is only 150 so the scores are showing at 100% but on increasing the rows it may decrease. The best part of the observation was when modeling in a large training dataset the accuracy increased when I thought it would increase. i.e. for 80 percent of the iris data frame."
   ]
  }
 ],
 "metadata": {
  "kernelspec": {
   "display_name": "Python 3 (ipykernel)",
   "language": "python",
   "name": "python3"
  },
  "language_info": {
   "codemirror_mode": {
    "name": "ipython",
    "version": 3
   },
   "file_extension": ".py",
   "mimetype": "text/x-python",
   "name": "python",
   "nbconvert_exporter": "python",
   "pygments_lexer": "ipython3",
   "version": "3.11.7"
  }
 },
 "nbformat": 4,
 "nbformat_minor": 5
}
